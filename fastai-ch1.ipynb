{
 "cells": [
  {
   "cell_type": "code",
   "execution_count": null,
   "metadata": {
    "_cell_guid": "b1076dfc-b9ad-4769-8c92-a6c4dae69d19",
    "_uuid": "8f2839f25d086af736a60e9eeb907d3b93b6e0e5",
    "trusted": true
   },
   "outputs": [],
   "source": [
    "# This Python 3 environment comes with many helpful analytics libraries installed\n",
    "# It is defined by the kaggle/python Docker image: https://github.com/kaggle/docker-python\n",
    "# For example, here's several helpful packages to load\n",
    "\n",
    "import numpy as np # linear algebra\n",
    "import pandas as pd # data processing, CSV file I/O (e.g. pd.read_csv)\n",
    "\n",
    "# Input data files are available in the read-only \"../input/\" directory\n",
    "# For example, running this (by clicking run or pressing Shift+Enter) will list all files under the input directory\n",
    "\n",
    "import os\n",
    "for dirname, _, filenames in os.walk('/kaggle/input'):\n",
    "    for filename in filenames:\n",
    "        print(os.path.join(dirname, filename))\n",
    "\n",
    "# You can write up to 20GB to the current directory (/kaggle/working/) that gets preserved as output when you create a version using \"Save & Run All\" \n",
    "# You can also write temporary files to /kaggle/temp/, but they won't be saved outside of the current session"
   ]
  },
  {
   "cell_type": "markdown",
   "metadata": {},
   "source": [
    "#Build a model that can classify if there is a bird in an image\n",
    "Steps\n",
    "1. Collect dataset from internet - using ddg search\n",
    "2. download images\n",
    "3. check the data and clean the invalid images\n",
    "4. create a dataloader\n",
    "5. create a model\n",
    "6. train the model using resnet or other arch (first train a simple model)\n",
    "7. check the images with largest loss and clean the bad input data\n",
    "8. train the model again\n",
    "9. test the model\n",
    "10. export the model"
   ]
  },
  {
   "cell_type": "code",
   "execution_count": null,
   "metadata": {
    "execution": {
     "iopub.execute_input": "2024-11-22T05:34:48.711067Z",
     "iopub.status.busy": "2024-11-22T05:34:48.710536Z",
     "iopub.status.idle": "2024-11-22T05:35:01.625819Z",
     "shell.execute_reply": "2024-11-22T05:35:01.624407Z",
     "shell.execute_reply.started": "2024-11-22T05:34:48.711017Z"
    },
    "trusted": true
   },
   "outputs": [],
   "source": [
    "# installs\n",
    "!pip install -U duckduckgo_search\n"
   ]
  },
  {
   "cell_type": "code",
   "execution_count": null,
   "metadata": {
    "execution": {
     "iopub.execute_input": "2024-11-22T06:01:20.550753Z",
     "iopub.status.busy": "2024-11-22T06:01:20.550227Z",
     "iopub.status.idle": "2024-11-22T06:01:20.558135Z",
     "shell.execute_reply": "2024-11-22T06:01:20.556607Z",
     "shell.execute_reply.started": "2024-11-22T06:01:20.550685Z"
    },
    "trusted": true
   },
   "outputs": [],
   "source": [
    "# imports\n",
    "from duckduckgo_search import DDGS\n",
    "from fastcore.all import *\n",
    "from fastai.vision.all import *\n",
    "from fastai.vision.widgets import ImageClassifierCleaner\n",
    "from fastdownload import download_url\n",
    "import time"
   ]
  },
  {
   "cell_type": "code",
   "execution_count": null,
   "metadata": {
    "execution": {
     "iopub.execute_input": "2024-11-22T06:31:02.837479Z",
     "iopub.status.busy": "2024-11-22T06:31:02.836686Z",
     "iopub.status.idle": "2024-11-22T06:31:02.844842Z",
     "shell.execute_reply": "2024-11-22T06:31:02.843342Z",
     "shell.execute_reply.started": "2024-11-22T06:31:02.837433Z"
    },
    "trusted": true
   },
   "outputs": [],
   "source": [
    "# func to search images\n",
    "def search_images_ddg(topic, max=100):\n",
    "    urls = L(DDGS().images(keywords=topic, max_results=max)).itemgot('image')\n",
    "    return urls\n",
    "\n",
    "# label function\n",
    "def get_y(item):\n",
    "    return 0\n",
    "\n",
    "def downloadImages(urls, path):\n",
    "    for url in urls:\n",
    "        download_url(url, path, show_progress=False)\n",
    "    print(f\"Images downloaded into {path}\")"
   ]
  },
  {
   "cell_type": "code",
   "execution_count": null,
   "metadata": {
    "execution": {
     "iopub.execute_input": "2024-11-22T06:04:00.864521Z",
     "iopub.status.busy": "2024-11-22T06:04:00.863378Z",
     "iopub.status.idle": "2024-11-22T06:04:51.469388Z",
     "shell.execute_reply": "2024-11-22T06:04:51.467941Z",
     "shell.execute_reply.started": "2024-11-22T06:04:00.864463Z"
    },
    "trusted": true
   },
   "outputs": [],
   "source": [
    "topics = \"birds\", \"forest\"\n",
    "path = Path('bird_or_not')\n",
    "\n",
    "for topic in topics:\n",
    "    dest = path/topic\n",
    "    dest.mkdir(exist_ok=True, parents=True)\n",
    "    download_images(dest, urls=search_images_ddg(topic))\n",
    "    time.sleep(5)\n",
    "    resize_images(dest, max_seiz=400, dest=dest)"
   ]
  },
  {
   "cell_type": "code",
   "execution_count": null,
   "metadata": {
    "execution": {
     "iopub.execute_input": "2024-11-22T06:05:18.530157Z",
     "iopub.status.busy": "2024-11-22T06:05:18.529767Z",
     "iopub.status.idle": "2024-11-22T06:05:21.400029Z",
     "shell.execute_reply": "2024-11-22T06:05:21.398638Z",
     "shell.execute_reply.started": "2024-11-22T06:05:18.530121Z"
    },
    "trusted": true
   },
   "outputs": [],
   "source": [
    "# remove invalid images\n",
    "failed = verify_images(get_image_files(path))\n",
    "failed.map(Path.unlink)\n",
    "len(failed)"
   ]
  },
  {
   "cell_type": "code",
   "execution_count": null,
   "metadata": {
    "execution": {
     "iopub.execute_input": "2024-11-22T06:09:44.108194Z",
     "iopub.status.busy": "2024-11-22T06:09:44.107790Z",
     "iopub.status.idle": "2024-11-22T06:09:44.554813Z",
     "shell.execute_reply": "2024-11-22T06:09:44.553682Z",
     "shell.execute_reply.started": "2024-11-22T06:09:44.108160Z"
    },
    "trusted": true
   },
   "outputs": [],
   "source": [
    "# define dataloader\n",
    "dls = DataBlock(blocks=(ImageBlock, CategoryBlock),\n",
    "                get_items=get_image_files,\n",
    "                splitter=RandomSplitter(seed=32),\n",
    "                get_y=parent_label,\n",
    "                item_tfms=[Resize(192, method='squish')]\n",
    "               ).dataloaders(path, bs=32)\n"
   ]
  },
  {
   "cell_type": "code",
   "execution_count": null,
   "metadata": {
    "execution": {
     "iopub.execute_input": "2024-11-22T06:10:13.915675Z",
     "iopub.status.busy": "2024-11-22T06:10:13.914661Z",
     "iopub.status.idle": "2024-11-22T06:10:16.887450Z",
     "shell.execute_reply": "2024-11-22T06:10:16.886247Z",
     "shell.execute_reply.started": "2024-11-22T06:10:13.915630Z"
    },
    "trusted": true
   },
   "outputs": [],
   "source": [
    "dls.show_batch(max_n=6)"
   ]
  },
  {
   "cell_type": "code",
   "execution_count": null,
   "metadata": {
    "execution": {
     "iopub.execute_input": "2024-11-22T06:21:21.864381Z",
     "iopub.status.busy": "2024-11-22T06:21:21.862550Z",
     "iopub.status.idle": "2024-11-22T06:21:23.348813Z",
     "shell.execute_reply": "2024-11-22T06:21:23.347521Z",
     "shell.execute_reply.started": "2024-11-22T06:21:21.864312Z"
    },
    "trusted": true
   },
   "outputs": [],
   "source": [
    "learn = vision_learner(dls, resnet50, metrics=error_rate)"
   ]
  },
  {
   "cell_type": "code",
   "execution_count": null,
   "metadata": {
    "execution": {
     "iopub.execute_input": "2024-11-22T06:21:24.898259Z",
     "iopub.status.busy": "2024-11-22T06:21:24.897860Z",
     "iopub.status.idle": "2024-11-22T06:25:39.052298Z",
     "shell.execute_reply": "2024-11-22T06:25:39.050942Z",
     "shell.execute_reply.started": "2024-11-22T06:21:24.898223Z"
    },
    "trusted": true
   },
   "outputs": [],
   "source": [
    "# train over one cycle\n",
    "learn.fine_tune(3)"
   ]
  },
  {
   "cell_type": "code",
   "execution_count": null,
   "metadata": {
    "execution": {
     "iopub.execute_input": "2024-11-22T06:25:39.055458Z",
     "iopub.status.busy": "2024-11-22T06:25:39.054971Z",
     "iopub.status.idle": "2024-11-22T06:25:54.835180Z",
     "shell.execute_reply": "2024-11-22T06:25:54.833508Z",
     "shell.execute_reply.started": "2024-11-22T06:25:39.055407Z"
    },
    "trusted": true
   },
   "outputs": [],
   "source": [
    "interp = ClassificationInterpretation.from_learner(learn)\n",
    "interp.plot_confusion_matrix()"
   ]
  },
  {
   "cell_type": "code",
   "execution_count": null,
   "metadata": {
    "execution": {
     "iopub.execute_input": "2024-11-22T06:26:03.485320Z",
     "iopub.status.busy": "2024-11-22T06:26:03.484226Z",
     "iopub.status.idle": "2024-11-22T06:26:05.402264Z",
     "shell.execute_reply": "2024-11-22T06:26:05.400775Z",
     "shell.execute_reply.started": "2024-11-22T06:26:03.485268Z"
    },
    "trusted": true
   },
   "outputs": [],
   "source": [
    "interp.plot_top_losses(5, nrows=1)"
   ]
  },
  {
   "cell_type": "code",
   "execution_count": null,
   "metadata": {
    "execution": {
     "iopub.execute_input": "2024-11-22T06:26:21.917932Z",
     "iopub.status.busy": "2024-11-22T06:26:21.917300Z",
     "iopub.status.idle": "2024-11-22T06:26:52.730832Z",
     "shell.execute_reply": "2024-11-22T06:26:52.729465Z",
     "shell.execute_reply.started": "2024-11-22T06:26:21.917873Z"
    },
    "trusted": true
   },
   "outputs": [],
   "source": [
    "# check and clean the data\n",
    "cleaner = ImageClassifierCleaner(learn)\n",
    "cleaner"
   ]
  },
  {
   "cell_type": "code",
   "execution_count": null,
   "metadata": {
    "execution": {
     "iopub.execute_input": "2024-11-22T06:27:29.128722Z",
     "iopub.status.busy": "2024-11-22T06:27:29.128148Z",
     "iopub.status.idle": "2024-11-22T06:27:29.137158Z",
     "shell.execute_reply": "2024-11-22T06:27:29.135796Z",
     "shell.execute_reply.started": "2024-11-22T06:27:29.128650Z"
    },
    "trusted": true
   },
   "outputs": [],
   "source": [
    "for idx in cleaner.delete(): cleaner.fns[idx].unlink()\n",
    "for idx, cat in cleaner.change(): shutil.move(str(cleaner.fns[idx]), path/cat)"
   ]
  },
  {
   "cell_type": "code",
   "execution_count": null,
   "metadata": {
    "execution": {
     "iopub.execute_input": "2024-11-22T06:33:52.743623Z",
     "iopub.status.busy": "2024-11-22T06:33:52.742786Z",
     "iopub.status.idle": "2024-11-22T06:33:52.751833Z",
     "shell.execute_reply": "2024-11-22T06:33:52.750768Z",
     "shell.execute_reply.started": "2024-11-22T06:33:52.743576Z"
    },
    "trusted": true
   },
   "outputs": [],
   "source": [
    "(path/'birds').ls()"
   ]
  },
  {
   "cell_type": "code",
   "execution_count": null,
   "metadata": {
    "execution": {
     "iopub.execute_input": "2024-11-22T06:34:21.938007Z",
     "iopub.status.busy": "2024-11-22T06:34:21.936999Z",
     "iopub.status.idle": "2024-11-22T06:34:22.189608Z",
     "shell.execute_reply": "2024-11-22T06:34:22.188386Z",
     "shell.execute_reply.started": "2024-11-22T06:34:21.937966Z"
    },
    "trusted": true
   },
   "outputs": [],
   "source": [
    "image = path/'birds'/'2fcb6b6a-06c2-408d-b2b1-62378087ea3e.jpg'\n",
    "learn.predict(image)"
   ]
  },
  {
   "cell_type": "code",
   "execution_count": null,
   "metadata": {
    "execution": {
     "iopub.execute_input": "2024-11-22T06:35:10.339847Z",
     "iopub.status.busy": "2024-11-22T06:35:10.339311Z",
     "iopub.status.idle": "2024-11-22T06:35:10.786980Z",
     "shell.execute_reply": "2024-11-22T06:35:10.785631Z",
     "shell.execute_reply.started": "2024-11-22T06:35:10.339790Z"
    },
    "trusted": true
   },
   "outputs": [],
   "source": [
    "modelFile = 'isBirdModelResnet50.pkl'\n",
    "learn.export(modelFile)"
   ]
  },
  {
   "cell_type": "code",
   "execution_count": null,
   "metadata": {
    "execution": {
     "iopub.execute_input": "2024-11-22T06:35:29.895542Z",
     "iopub.status.busy": "2024-11-22T06:35:29.895138Z",
     "iopub.status.idle": "2024-11-22T06:35:29.985540Z",
     "shell.execute_reply": "2024-11-22T06:35:29.984331Z",
     "shell.execute_reply.started": "2024-11-22T06:35:29.895508Z"
    },
    "trusted": true
   },
   "outputs": [],
   "source": [
    "learn_loaded = load_learner(modelFile)"
   ]
  },
  {
   "cell_type": "code",
   "execution_count": null,
   "metadata": {
    "execution": {
     "iopub.execute_input": "2024-11-22T06:35:40.342427Z",
     "iopub.status.busy": "2024-11-22T06:35:40.341942Z",
     "iopub.status.idle": "2024-11-22T06:35:40.562964Z",
     "shell.execute_reply": "2024-11-22T06:35:40.561776Z",
     "shell.execute_reply.started": "2024-11-22T06:35:40.342382Z"
    },
    "trusted": true
   },
   "outputs": [],
   "source": [
    "learn_loaded.predict(image)"
   ]
  },
  {
   "cell_type": "code",
   "execution_count": null,
   "metadata": {
    "trusted": true
   },
   "outputs": [],
   "source": []
  }
 ],
 "metadata": {
  "kaggle": {
   "accelerator": "none",
   "dataSources": [],
   "dockerImageVersionId": 30786,
   "isGpuEnabled": false,
   "isInternetEnabled": true,
   "language": "python",
   "sourceType": "notebook"
  },
  "kernelspec": {
   "display_name": "Python 3",
   "language": "python",
   "name": "python3"
  },
  "language_info": {
   "codemirror_mode": {
    "name": "ipython",
    "version": 3
   },
   "file_extension": ".py",
   "mimetype": "text/x-python",
   "name": "python",
   "nbconvert_exporter": "python",
   "pygments_lexer": "ipython3",
   "version": "3.10.14"
  }
 },
 "nbformat": 4,
 "nbformat_minor": 4
}
