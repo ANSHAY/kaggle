{
 "cells": [
  {
   "cell_type": "code",
   "execution_count": null,
   "metadata": {
    "_cell_guid": "b1076dfc-b9ad-4769-8c92-a6c4dae69d19",
    "_uuid": "8f2839f25d086af736a60e9eeb907d3b93b6e0e5",
    "trusted": true
   },
   "outputs": [],
   "source": [
    "# This Python 3 environment comes with many helpful analytics libraries installed\n",
    "# It is defined by the kaggle/python Docker image: https://github.com/kaggle/docker-python\n",
    "# For example, here's several helpful packages to load\n",
    "\n",
    "import numpy as np # linear algebra\n",
    "import pandas as pd # data processing, CSV file I/O (e.g. pd.read_csv)\n",
    "\n",
    "# Input data files are available in the read-only \"../input/\" directory\n",
    "# For example, running this (by clicking run or pressing Shift+Enter) will list all files under the input directory\n",
    "\n",
    "import os\n",
    "for dirname, _, filenames in os.walk('/kaggle/input'):\n",
    "    for filename in filenames:\n",
    "        print(os.path.join(dirname, filename))\n",
    "\n",
    "# You can write up to 20GB to the current directory (/kaggle/working/) that gets preserved as output when you create a version using \"Save & Run All\" \n",
    "# You can also write temporary files to /kaggle/temp/, but they won't be saved outside of the current session"
   ]
  },
  {
   "cell_type": "markdown",
   "metadata": {},
   "source": [
    "TODO\n",
    "Build an image classifier with resnet18 or any other arch to classify between real dog and cartoon dog\n",
    "Steps:\n",
    "1. Setup data - download the data, preview data files\n",
    "2. Define dataloader\n",
    "3. Define learner model\n",
    "4. Train the model (simple)\n",
    "5. Clean the data\n",
    "6. Train the model full\n",
    "7. Test the model\n",
    "8. Save the model"
   ]
  },
  {
   "cell_type": "code",
   "execution_count": null,
   "metadata": {
    "execution": {
     "iopub.execute_input": "2024-11-22T06:51:29.217930Z",
     "iopub.status.busy": "2024-11-22T06:51:29.217561Z",
     "iopub.status.idle": "2024-11-22T06:51:40.791359Z",
     "shell.execute_reply": "2024-11-22T06:51:40.789972Z",
     "shell.execute_reply.started": "2024-11-22T06:51:29.217900Z"
    },
    "trusted": true
   },
   "outputs": [],
   "source": [
    "# install\n",
    "!pip install -U duckduckgo_search"
   ]
  },
  {
   "cell_type": "code",
   "execution_count": null,
   "metadata": {
    "execution": {
     "iopub.execute_input": "2024-11-22T07:00:42.241863Z",
     "iopub.status.busy": "2024-11-22T07:00:42.241342Z",
     "iopub.status.idle": "2024-11-22T07:00:50.221528Z",
     "shell.execute_reply": "2024-11-22T07:00:50.220332Z",
     "shell.execute_reply.started": "2024-11-22T07:00:42.241815Z"
    },
    "trusted": true
   },
   "outputs": [],
   "source": [
    "# imports\n",
    "from fastcore.all import *\n",
    "from fastai.vision.all import *\n",
    "from duckduckgo_search import DDGS\n",
    "\n",
    "import time"
   ]
  },
  {
   "cell_type": "code",
   "execution_count": null,
   "metadata": {
    "execution": {
     "iopub.execute_input": "2024-11-22T07:00:50.224455Z",
     "iopub.status.busy": "2024-11-22T07:00:50.223942Z",
     "iopub.status.idle": "2024-11-22T07:00:50.230633Z",
     "shell.execute_reply": "2024-11-22T07:00:50.229325Z",
     "shell.execute_reply.started": "2024-11-22T07:00:50.224404Z"
    },
    "trusted": true
   },
   "outputs": [],
   "source": [
    "# search images\n",
    "def search_images(topic, mx=100):\n",
    "    urls = L(DDGS().images(topic, max_results=mx)).itemgot('image')\n",
    "    return urls"
   ]
  },
  {
   "cell_type": "code",
   "execution_count": null,
   "metadata": {
    "execution": {
     "iopub.execute_input": "2024-11-22T07:06:00.912748Z",
     "iopub.status.busy": "2024-11-22T07:06:00.912348Z",
     "iopub.status.idle": "2024-11-22T07:06:02.730767Z",
     "shell.execute_reply": "2024-11-22T07:06:02.729261Z",
     "shell.execute_reply.started": "2024-11-22T07:06:00.912714Z"
    },
    "trusted": true
   },
   "outputs": [],
   "source": [
    "# checking out data\n",
    "realimage = search_images('real dog', 1)\n",
    "download_images(\"\", urls=realimage)\n",
    "cartoonimage = search_images('cartoon dog', 1)\n",
    "download_images(\"\", urls=cartoonimage)"
   ]
  },
  {
   "cell_type": "code",
   "execution_count": null,
   "metadata": {
    "execution": {
     "iopub.execute_input": "2024-11-22T07:06:04.505252Z",
     "iopub.status.busy": "2024-11-22T07:06:04.504582Z",
     "iopub.status.idle": "2024-11-22T07:06:04.514423Z",
     "shell.execute_reply": "2024-11-22T07:06:04.513247Z",
     "shell.execute_reply.started": "2024-11-22T07:06:04.505166Z"
    },
    "trusted": true
   },
   "outputs": [],
   "source": [
    "Path().ls()"
   ]
  },
  {
   "cell_type": "code",
   "execution_count": null,
   "metadata": {
    "execution": {
     "iopub.execute_input": "2024-11-22T07:06:20.006292Z",
     "iopub.status.busy": "2024-11-22T07:06:20.005756Z",
     "iopub.status.idle": "2024-11-22T07:06:20.013878Z",
     "shell.execute_reply": "2024-11-22T07:06:20.012639Z",
     "shell.execute_reply.started": "2024-11-22T07:06:20.006243Z"
    },
    "trusted": true
   },
   "outputs": [],
   "source": [
    "realimage"
   ]
  },
  {
   "cell_type": "code",
   "execution_count": null,
   "metadata": {
    "execution": {
     "iopub.execute_input": "2024-11-22T07:10:28.762186Z",
     "iopub.status.busy": "2024-11-22T07:10:28.761802Z",
     "iopub.status.idle": "2024-11-22T07:10:28.921821Z",
     "shell.execute_reply": "2024-11-22T07:10:28.920333Z",
     "shell.execute_reply.started": "2024-11-22T07:10:28.762152Z"
    },
    "trusted": true
   },
   "outputs": [],
   "source": [
    "# checking out data\n",
    "rimg = 'de918370-d2ce-479c-8d07-489a80fcdb73.jpg'\n",
    "im = Image.open(rimg)\n",
    "im"
   ]
  },
  {
   "cell_type": "code",
   "execution_count": null,
   "metadata": {
    "execution": {
     "iopub.execute_input": "2024-11-22T07:10:59.197337Z",
     "iopub.status.busy": "2024-11-22T07:10:59.196291Z",
     "iopub.status.idle": "2024-11-22T07:10:59.579239Z",
     "shell.execute_reply": "2024-11-22T07:10:59.578053Z",
     "shell.execute_reply.started": "2024-11-22T07:10:59.197292Z"
    },
    "trusted": true
   },
   "outputs": [],
   "source": [
    "# checking out data\n",
    "rimg = 'c28def76-4125-4086-b0ab-ea2d5218903d.jpg'\n",
    "im = Image.open(rimg)\n",
    "im"
   ]
  },
  {
   "cell_type": "code",
   "execution_count": null,
   "metadata": {
    "execution": {
     "iopub.execute_input": "2024-11-22T07:12:20.109455Z",
     "iopub.status.busy": "2024-11-22T07:12:20.108345Z",
     "iopub.status.idle": "2024-11-22T07:13:08.737122Z",
     "shell.execute_reply": "2024-11-22T07:13:08.735571Z",
     "shell.execute_reply.started": "2024-11-22T07:12:20.109398Z"
    },
    "trusted": true
   },
   "outputs": [],
   "source": [
    "topics = \"real dog\", \"cartoon dog\"\n",
    "path = Path('dog_real_cartoon')\n",
    "\n",
    "for topic in topics:\n",
    "    dest = path/topic\n",
    "    dest.mkdir(exist_ok=True, parents=True)\n",
    "    download_images(dest, urls=search_images(topic))\n",
    "    time.sleep(5)\n",
    "    resize_images(dest, max_size=400, dest=dest)\n"
   ]
  },
  {
   "cell_type": "code",
   "execution_count": null,
   "metadata": {
    "execution": {
     "iopub.execute_input": "2024-11-22T07:19:33.350755Z",
     "iopub.status.busy": "2024-11-22T07:19:33.350172Z",
     "iopub.status.idle": "2024-11-22T07:19:33.852063Z",
     "shell.execute_reply": "2024-11-22T07:19:33.850620Z",
     "shell.execute_reply.started": "2024-11-22T07:19:33.350699Z"
    },
    "trusted": true
   },
   "outputs": [],
   "source": [
    "failed = verify_images(get_image_files(path))\n",
    "failed.map(Path.unlink)\n",
    "len(failed)"
   ]
  },
  {
   "cell_type": "code",
   "execution_count": null,
   "metadata": {
    "execution": {
     "iopub.execute_input": "2024-11-22T07:19:36.684085Z",
     "iopub.status.busy": "2024-11-22T07:19:36.683660Z",
     "iopub.status.idle": "2024-11-22T07:19:36.729402Z",
     "shell.execute_reply": "2024-11-22T07:19:36.728276Z",
     "shell.execute_reply.started": "2024-11-22T07:19:36.684044Z"
    },
    "trusted": true
   },
   "outputs": [],
   "source": [
    "dls = DataBlock(blocks=(ImageBlock, CategoryBlock),\n",
    "                get_items=get_image_files,\n",
    "                get_y=parent_label,\n",
    "                splitter=RandomSplitter(seed=32),\n",
    "                item_tfms=[Resize(192, method='squish')]\n",
    "               ).dataloaders(path, bs=32)\n"
   ]
  },
  {
   "cell_type": "code",
   "execution_count": null,
   "metadata": {
    "execution": {
     "iopub.execute_input": "2024-11-22T07:19:38.255426Z",
     "iopub.status.busy": "2024-11-22T07:19:38.254892Z",
     "iopub.status.idle": "2024-11-22T07:19:39.637333Z",
     "shell.execute_reply": "2024-11-22T07:19:39.636206Z",
     "shell.execute_reply.started": "2024-11-22T07:19:38.255377Z"
    },
    "trusted": true
   },
   "outputs": [],
   "source": [
    "dls.show_batch(max_n=6, nrows=1)"
   ]
  },
  {
   "cell_type": "code",
   "execution_count": null,
   "metadata": {
    "execution": {
     "iopub.execute_input": "2024-11-22T07:19:42.714176Z",
     "iopub.status.busy": "2024-11-22T07:19:42.713686Z",
     "iopub.status.idle": "2024-11-22T07:19:43.038743Z",
     "shell.execute_reply": "2024-11-22T07:19:43.037544Z",
     "shell.execute_reply.started": "2024-11-22T07:19:42.714133Z"
    },
    "trusted": true
   },
   "outputs": [],
   "source": [
    "learn = vision_learner(dls, resnet18, metrics=error_rate)"
   ]
  },
  {
   "cell_type": "code",
   "execution_count": null,
   "metadata": {
    "execution": {
     "iopub.execute_input": "2024-11-22T07:19:44.824147Z",
     "iopub.status.busy": "2024-11-22T07:19:44.823761Z",
     "iopub.status.idle": "2024-11-22T07:21:18.422859Z",
     "shell.execute_reply": "2024-11-22T07:21:18.421619Z",
     "shell.execute_reply.started": "2024-11-22T07:19:44.824112Z"
    },
    "trusted": true
   },
   "outputs": [],
   "source": [
    "learn.fine_tune(3)"
   ]
  },
  {
   "cell_type": "code",
   "execution_count": null,
   "metadata": {
    "execution": {
     "iopub.execute_input": "2024-11-22T07:24:32.065920Z",
     "iopub.status.busy": "2024-11-22T07:24:32.065353Z",
     "iopub.status.idle": "2024-11-22T07:24:34.840265Z",
     "shell.execute_reply": "2024-11-22T07:24:34.838464Z",
     "shell.execute_reply.started": "2024-11-22T07:24:32.065867Z"
    },
    "trusted": true
   },
   "outputs": [],
   "source": [
    "interp = ClassificationInterpretation.from_learner(learn)\n"
   ]
  },
  {
   "cell_type": "code",
   "execution_count": null,
   "metadata": {
    "execution": {
     "iopub.execute_input": "2024-11-22T07:26:58.727472Z",
     "iopub.status.busy": "2024-11-22T07:26:58.726523Z",
     "iopub.status.idle": "2024-11-22T07:27:01.686696Z",
     "shell.execute_reply": "2024-11-22T07:27:01.684635Z",
     "shell.execute_reply.started": "2024-11-22T07:26:58.727418Z"
    },
    "trusted": true
   },
   "outputs": [],
   "source": [
    "interp.plot_confusion_matrix()"
   ]
  },
  {
   "cell_type": "code",
   "execution_count": null,
   "metadata": {
    "execution": {
     "iopub.execute_input": "2024-11-22T07:26:01.520322Z",
     "iopub.status.busy": "2024-11-22T07:26:01.519237Z",
     "iopub.status.idle": "2024-11-22T07:26:02.869188Z",
     "shell.execute_reply": "2024-11-22T07:26:02.867860Z",
     "shell.execute_reply.started": "2024-11-22T07:26:01.520278Z"
    },
    "trusted": true
   },
   "outputs": [],
   "source": [
    "interp.plot_top_losses(5)"
   ]
  },
  {
   "cell_type": "code",
   "execution_count": null,
   "metadata": {
    "trusted": true
   },
   "outputs": [],
   "source": []
  }
 ],
 "metadata": {
  "kaggle": {
   "accelerator": "none",
   "dataSources": [],
   "dockerImageVersionId": 30786,
   "isGpuEnabled": false,
   "isInternetEnabled": true,
   "language": "python",
   "sourceType": "notebook"
  },
  "kernelspec": {
   "display_name": "Python 3",
   "language": "python",
   "name": "python3"
  },
  "language_info": {
   "codemirror_mode": {
    "name": "ipython",
    "version": 3
   },
   "file_extension": ".py",
   "mimetype": "text/x-python",
   "name": "python",
   "nbconvert_exporter": "python",
   "pygments_lexer": "ipython3",
   "version": "3.10.14"
  }
 },
 "nbformat": 4,
 "nbformat_minor": 4
}
